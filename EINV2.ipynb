{
 "cells": [
  {
   "cell_type": "code",
   "execution_count": 1,
   "id": "5bc30011",
   "metadata": {
    "_cell_guid": "b1076dfc-b9ad-4769-8c92-a6c4dae69d19",
    "_uuid": "8f2839f25d086af736a60e9eeb907d3b93b6e0e5",
    "execution": {
     "iopub.execute_input": "2024-04-03T07:42:45.555733Z",
     "iopub.status.busy": "2024-04-03T07:42:45.554830Z",
     "iopub.status.idle": "2024-04-03T07:42:47.171400Z",
     "shell.execute_reply": "2024-04-03T07:42:47.170446Z"
    },
    "papermill": {
     "duration": 1.622345,
     "end_time": "2024-04-03T07:42:47.173622",
     "exception": false,
     "start_time": "2024-04-03T07:42:45.551277",
     "status": "completed"
    },
    "tags": []
   },
   "outputs": [
    {
     "name": "stdout",
     "output_type": "stream",
     "text": [
      "Cloning into 'EIN-SELD'...\r\n",
      "remote: Enumerating objects: 255, done.\u001b[K\r\n",
      "remote: Counting objects: 100% (32/32), done.\u001b[K\r\n",
      "remote: Compressing objects: 100% (3/3), done.\u001b[K\r\n",
      "remote: Total 255 (delta 29), reused 29 (delta 29), pack-reused 223\u001b[K\r\n",
      "Receiving objects: 100% (255/255), 2.99 MiB | 21.69 MiB/s, done.\r\n",
      "Resolving deltas: 100% (98/98), done.\r\n"
     ]
    }
   ],
   "source": [
    "!git clone https://github.com/yinkalario/EIN-SELD.git"
   ]
  },
  {
   "cell_type": "code",
   "execution_count": 2,
   "id": "f48ea9a4",
   "metadata": {
    "execution": {
     "iopub.execute_input": "2024-04-03T07:42:47.180122Z",
     "iopub.status.busy": "2024-04-03T07:42:47.179386Z",
     "iopub.status.idle": "2024-04-03T07:42:50.706415Z",
     "shell.execute_reply": "2024-04-03T07:42:50.705344Z"
    },
    "papermill": {
     "duration": 3.532579,
     "end_time": "2024-04-03T07:42:50.708791",
     "exception": false,
     "start_time": "2024-04-03T07:42:47.176212",
     "status": "completed"
    },
    "tags": []
   },
   "outputs": [
    {
     "name": "stdout",
     "output_type": "stream",
     "text": [
      "/kaggle/working/EIN-SELD\n",
      "scripts/prepare_env.sh: line 5: syntax error near unexpected token `newline'\r\n",
      "# conda environments:\r\n",
      "#\r\n",
      "base                     /opt/conda\r\n",
      "\r\n"
     ]
    }
   ],
   "source": [
    "%cd /kaggle/working/EIN-SELD/\n",
    "!bash scripts/prepare_env.sh\n",
    "!conda env list"
   ]
  }
 ],
 "metadata": {
  "kaggle": {
   "accelerator": "none",
   "dataSources": [],
   "dockerImageVersionId": 30673,
   "isGpuEnabled": false,
   "isInternetEnabled": true,
   "language": "python",
   "sourceType": "notebook"
  },
  "kernelspec": {
   "display_name": "Python 3",
   "language": "python",
   "name": "python3"
  },
  "language_info": {
   "codemirror_mode": {
    "name": "ipython",
    "version": 3
   },
   "file_extension": ".py",
   "mimetype": "text/x-python",
   "name": "python",
   "nbconvert_exporter": "python",
   "pygments_lexer": "ipython3",
   "version": "3.10.13"
  },
  "papermill": {
   "default_parameters": {},
   "duration": 8.172824,
   "end_time": "2024-04-03T07:42:50.929760",
   "environment_variables": {},
   "exception": null,
   "input_path": "__notebook__.ipynb",
   "output_path": "__notebook__.ipynb",
   "parameters": {},
   "start_time": "2024-04-03T07:42:42.756936",
   "version": "2.5.0"
  }
 },
 "nbformat": 4,
 "nbformat_minor": 5
}
